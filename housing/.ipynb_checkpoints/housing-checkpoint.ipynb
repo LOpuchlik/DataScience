{
 "cells": [
  {
   "cell_type": "markdown",
   "metadata": {},
   "source": [
    "# Introduction\n",
    "State notebook purpose here"
   ]
  },
  {
   "cell_type": "markdown",
   "metadata": {},
   "source": [
    "### Imports\n",
    "Import libraries and write settings here."
   ]
  },
  {
   "cell_type": "code",
   "execution_count": 19,
   "metadata": {},
   "outputs": [
    {
     "data": {
      "text/html": [
       "<script type=\"text/javascript\">window.PlotlyConfig = {MathJaxConfig: 'local'};</script><script type=\"text/javascript\">if (window.MathJax) {MathJax.Hub.Config({SVG: {font: \"STIX-Web\"}});}</script><script>requirejs.config({paths: { 'plotly': ['https://cdn.plot.ly/plotly-latest.min']},});if(!window._Plotly) {require(['plotly'],function(plotly) {window._Plotly=plotly;});}</script>"
      ],
      "text/vnd.plotly.v1+html": [
       "<script type=\"text/javascript\">window.PlotlyConfig = {MathJaxConfig: 'local'};</script><script type=\"text/javascript\">if (window.MathJax) {MathJax.Hub.Config({SVG: {font: \"STIX-Web\"}});}</script><script>requirejs.config({paths: { 'plotly': ['https://cdn.plot.ly/plotly-latest.min']},});if(!window._Plotly) {require(['plotly'],function(plotly) {window._Plotly=plotly;});}</script>"
      ]
     },
     "metadata": {},
     "output_type": "display_data"
    },
    {
     "data": {
      "text/html": [
       "<script type=\"text/javascript\">window.PlotlyConfig = {MathJaxConfig: 'local'};</script><script type=\"text/javascript\">if (window.MathJax) {MathJax.Hub.Config({SVG: {font: \"STIX-Web\"}});}</script><script>requirejs.config({paths: { 'plotly': ['https://cdn.plot.ly/plotly-latest.min']},});if(!window._Plotly) {require(['plotly'],function(plotly) {window._Plotly=plotly;});}</script>"
      ],
      "text/vnd.plotly.v1+html": [
       "<script type=\"text/javascript\">window.PlotlyConfig = {MathJaxConfig: 'local'};</script><script type=\"text/javascript\">if (window.MathJax) {MathJax.Hub.Config({SVG: {font: \"STIX-Web\"}});}</script><script>requirejs.config({paths: { 'plotly': ['https://cdn.plot.ly/plotly-latest.min']},});if(!window._Plotly) {require(['plotly'],function(plotly) {window._Plotly=plotly;});}</script>"
      ]
     },
     "metadata": {},
     "output_type": "display_data"
    }
   ],
   "source": [
    "# Data manipulation\n",
    "import pandas as pd\n",
    "import numpy as np\n",
    "\n",
    "# Options for pandas\n",
    "pd.options.display.max_columns = 50\n",
    "pd.options.display.max_rows = 30\n",
    "\n",
    "# Display all cell outputs\n",
    "from IPython.core.interactiveshell import InteractiveShell\n",
    "InteractiveShell.ast_node_interactivity = 'all'\n",
    "\n",
    "from IPython import get_ipython\n",
    "ipython = get_ipython()\n",
    "\n",
    "# autoreload extension\n",
    "if 'autoreload' not in ipython.extension_manager.loaded:\n",
    "    %load_ext autoreload\n",
    "\n",
    "%autoreload 2\n",
    "\n",
    "# Visualizations\n",
    "import matplotlib.pyplot as plt\n",
    "%matplotlib inline\n",
    "\n",
    "import seaborn as sns\n",
    "\n",
    "import plotly.plotly as py\n",
    "import plotly.graph_objs as go\n",
    "from plotly.offline import iplot, init_notebook_mode\n",
    "init_notebook_mode(connected=True)\n",
    "\n",
    "import cufflinks as cf\n",
    "cf.go_offline(connected=True)\n",
    "cf.set_config_file(theme='white')"
   ]
  },
  {
   "cell_type": "code",
   "execution_count": 40,
   "metadata": {},
   "outputs": [
    {
     "data": {
      "text/html": [
       "<div>\n",
       "<style scoped>\n",
       "    .dataframe tbody tr th:only-of-type {\n",
       "        vertical-align: middle;\n",
       "    }\n",
       "\n",
       "    .dataframe tbody tr th {\n",
       "        vertical-align: top;\n",
       "    }\n",
       "\n",
       "    .dataframe thead th {\n",
       "        text-align: right;\n",
       "    }\n",
       "</style>\n",
       "<table border=\"1\" class=\"dataframe\">\n",
       "  <thead>\n",
       "    <tr style=\"text-align: right;\">\n",
       "      <th></th>\n",
       "      <th>Unnamed: 0</th>\n",
       "      <th>longitude</th>\n",
       "      <th>latitude</th>\n",
       "      <th>housing_median_age</th>\n",
       "      <th>total_rooms</th>\n",
       "      <th>total_bedrooms</th>\n",
       "      <th>population</th>\n",
       "      <th>households</th>\n",
       "      <th>median_income</th>\n",
       "      <th>median_house_value</th>\n",
       "      <th>ocean_proximity</th>\n",
       "      <th>ocean_proximity_cat</th>\n",
       "    </tr>\n",
       "  </thead>\n",
       "  <tbody>\n",
       "    <tr>\n",
       "      <th>1578</th>\n",
       "      <td>1578</td>\n",
       "      <td>-122.03</td>\n",
       "      <td>37.87</td>\n",
       "      <td>21.0</td>\n",
       "      <td>3521.0</td>\n",
       "      <td>447.0</td>\n",
       "      <td>1396.0</td>\n",
       "      <td>467.0</td>\n",
       "      <td>8.2673</td>\n",
       "      <td>358700.0</td>\n",
       "      <td>NEAR BAY</td>\n",
       "      <td>0</td>\n",
       "    </tr>\n",
       "    <tr>\n",
       "      <th>16021</th>\n",
       "      <td>16021</td>\n",
       "      <td>-122.47</td>\n",
       "      <td>37.72</td>\n",
       "      <td>46.0</td>\n",
       "      <td>1836.0</td>\n",
       "      <td>319.0</td>\n",
       "      <td>767.0</td>\n",
       "      <td>302.0</td>\n",
       "      <td>5.9114</td>\n",
       "      <td>399000.0</td>\n",
       "      <td>NEAR OCEAN</td>\n",
       "      <td>3</td>\n",
       "    </tr>\n",
       "    <tr>\n",
       "      <th>7413</th>\n",
       "      <td>7413</td>\n",
       "      <td>-118.23</td>\n",
       "      <td>33.96</td>\n",
       "      <td>42.0</td>\n",
       "      <td>1977.0</td>\n",
       "      <td>570.0</td>\n",
       "      <td>2406.0</td>\n",
       "      <td>557.0</td>\n",
       "      <td>2.5913</td>\n",
       "      <td>151600.0</td>\n",
       "      <td>&lt;1H OCEAN</td>\n",
       "      <td>1</td>\n",
       "    </tr>\n",
       "    <tr>\n",
       "      <th>7333</th>\n",
       "      <td>7333</td>\n",
       "      <td>-118.18</td>\n",
       "      <td>33.97</td>\n",
       "      <td>34.0</td>\n",
       "      <td>3214.0</td>\n",
       "      <td>899.0</td>\n",
       "      <td>3086.0</td>\n",
       "      <td>808.0</td>\n",
       "      <td>2.0057</td>\n",
       "      <td>189400.0</td>\n",
       "      <td>&lt;1H OCEAN</td>\n",
       "      <td>1</td>\n",
       "    </tr>\n",
       "    <tr>\n",
       "      <th>2705</th>\n",
       "      <td>2705</td>\n",
       "      <td>-115.59</td>\n",
       "      <td>32.85</td>\n",
       "      <td>20.0</td>\n",
       "      <td>1608.0</td>\n",
       "      <td>274.0</td>\n",
       "      <td>862.0</td>\n",
       "      <td>248.0</td>\n",
       "      <td>4.8750</td>\n",
       "      <td>90800.0</td>\n",
       "      <td>INLAND</td>\n",
       "      <td>2</td>\n",
       "    </tr>\n",
       "    <tr>\n",
       "      <th>14152</th>\n",
       "      <td>14152</td>\n",
       "      <td>-117.09</td>\n",
       "      <td>32.77</td>\n",
       "      <td>31.0</td>\n",
       "      <td>3062.0</td>\n",
       "      <td>NaN</td>\n",
       "      <td>1263.0</td>\n",
       "      <td>539.0</td>\n",
       "      <td>3.0875</td>\n",
       "      <td>291500.0</td>\n",
       "      <td>NEAR OCEAN</td>\n",
       "      <td>3</td>\n",
       "    </tr>\n",
       "    <tr>\n",
       "      <th>10140</th>\n",
       "      <td>10140</td>\n",
       "      <td>-117.89</td>\n",
       "      <td>33.92</td>\n",
       "      <td>14.0</td>\n",
       "      <td>1562.0</td>\n",
       "      <td>373.0</td>\n",
       "      <td>609.0</td>\n",
       "      <td>328.0</td>\n",
       "      <td>2.3935</td>\n",
       "      <td>125000.0</td>\n",
       "      <td>&lt;1H OCEAN</td>\n",
       "      <td>1</td>\n",
       "    </tr>\n",
       "    <tr>\n",
       "      <th>11894</th>\n",
       "      <td>11894</td>\n",
       "      <td>-117.35</td>\n",
       "      <td>33.97</td>\n",
       "      <td>27.0</td>\n",
       "      <td>3960.0</td>\n",
       "      <td>886.0</td>\n",
       "      <td>2807.0</td>\n",
       "      <td>838.0</td>\n",
       "      <td>3.0240</td>\n",
       "      <td>122500.0</td>\n",
       "      <td>INLAND</td>\n",
       "      <td>2</td>\n",
       "    </tr>\n",
       "    <tr>\n",
       "      <th>9884</th>\n",
       "      <td>9884</td>\n",
       "      <td>-121.80</td>\n",
       "      <td>36.69</td>\n",
       "      <td>12.0</td>\n",
       "      <td>3877.0</td>\n",
       "      <td>914.0</td>\n",
       "      <td>2274.0</td>\n",
       "      <td>858.0</td>\n",
       "      <td>3.4239</td>\n",
       "      <td>194800.0</td>\n",
       "      <td>&lt;1H OCEAN</td>\n",
       "      <td>1</td>\n",
       "    </tr>\n",
       "    <tr>\n",
       "      <th>5673</th>\n",
       "      <td>5673</td>\n",
       "      <td>-118.31</td>\n",
       "      <td>33.73</td>\n",
       "      <td>33.0</td>\n",
       "      <td>2265.0</td>\n",
       "      <td>366.0</td>\n",
       "      <td>986.0</td>\n",
       "      <td>388.0</td>\n",
       "      <td>5.4533</td>\n",
       "      <td>409800.0</td>\n",
       "      <td>NEAR OCEAN</td>\n",
       "      <td>3</td>\n",
       "    </tr>\n",
       "  </tbody>\n",
       "</table>\n",
       "</div>"
      ],
      "text/plain": [
       "       Unnamed: 0  longitude  latitude  housing_median_age  total_rooms  \\\n",
       "1578         1578    -122.03     37.87                21.0       3521.0   \n",
       "16021       16021    -122.47     37.72                46.0       1836.0   \n",
       "7413         7413    -118.23     33.96                42.0       1977.0   \n",
       "7333         7333    -118.18     33.97                34.0       3214.0   \n",
       "2705         2705    -115.59     32.85                20.0       1608.0   \n",
       "14152       14152    -117.09     32.77                31.0       3062.0   \n",
       "10140       10140    -117.89     33.92                14.0       1562.0   \n",
       "11894       11894    -117.35     33.97                27.0       3960.0   \n",
       "9884         9884    -121.80     36.69                12.0       3877.0   \n",
       "5673         5673    -118.31     33.73                33.0       2265.0   \n",
       "\n",
       "       total_bedrooms  population  households  median_income  \\\n",
       "1578            447.0      1396.0       467.0         8.2673   \n",
       "16021           319.0       767.0       302.0         5.9114   \n",
       "7413            570.0      2406.0       557.0         2.5913   \n",
       "7333            899.0      3086.0       808.0         2.0057   \n",
       "2705            274.0       862.0       248.0         4.8750   \n",
       "14152             NaN      1263.0       539.0         3.0875   \n",
       "10140           373.0       609.0       328.0         2.3935   \n",
       "11894           886.0      2807.0       838.0         3.0240   \n",
       "9884            914.0      2274.0       858.0         3.4239   \n",
       "5673            366.0       986.0       388.0         5.4533   \n",
       "\n",
       "       median_house_value ocean_proximity  ocean_proximity_cat  \n",
       "1578             358700.0        NEAR BAY                    0  \n",
       "16021            399000.0      NEAR OCEAN                    3  \n",
       "7413             151600.0       <1H OCEAN                    1  \n",
       "7333             189400.0       <1H OCEAN                    1  \n",
       "2705              90800.0          INLAND                    2  \n",
       "14152            291500.0      NEAR OCEAN                    3  \n",
       "10140            125000.0       <1H OCEAN                    1  \n",
       "11894            122500.0          INLAND                    2  \n",
       "9884             194800.0       <1H OCEAN                    1  \n",
       "5673             409800.0      NEAR OCEAN                    3  "
      ]
     },
     "execution_count": 40,
     "metadata": {},
     "output_type": "execute_result"
    },
    {
     "name": "stdout",
     "output_type": "stream",
     "text": [
      "<class 'pandas.core.frame.DataFrame'>\n",
      "RangeIndex: 20640 entries, 0 to 20639\n",
      "Data columns (total 12 columns):\n",
      "Unnamed: 0             20640 non-null int64\n",
      "longitude              20640 non-null float64\n",
      "latitude               20640 non-null float64\n",
      "housing_median_age     20640 non-null float64\n",
      "total_rooms            20640 non-null float64\n",
      "total_bedrooms         20433 non-null float64\n",
      "population             20640 non-null float64\n",
      "households             20640 non-null float64\n",
      "median_income          20640 non-null float64\n",
      "median_house_value     20640 non-null float64\n",
      "ocean_proximity        20640 non-null object\n",
      "ocean_proximity_cat    20640 non-null int64\n",
      "dtypes: float64(9), int64(2), object(1)\n",
      "memory usage: 1.9+ MB\n"
     ]
    }
   ],
   "source": [
    "data = pd.read_csv('/Users/jagoodka/Dropbox/Jagoda/my_github/DataScience/housing/housing.csv')\n",
    "#data['ocean_proximity_cat'] = data['ocean_proximity'].factorize()[0]\n",
    "data.sample(10)\n",
    "data.info()\n",
    "# each row represents one district\n",
    "# total_bedrooms feature has only 20433 out of 20640 values filled --> 207 are missing"
   ]
  },
  {
   "cell_type": "code",
   "execution_count": 50,
   "metadata": {},
   "outputs": [
    {
     "data": {
      "text/html": [
       "<div>\n",
       "<style scoped>\n",
       "    .dataframe tbody tr th:only-of-type {\n",
       "        vertical-align: middle;\n",
       "    }\n",
       "\n",
       "    .dataframe tbody tr th {\n",
       "        vertical-align: top;\n",
       "    }\n",
       "\n",
       "    .dataframe thead th {\n",
       "        text-align: right;\n",
       "    }\n",
       "</style>\n",
       "<table border=\"1\" class=\"dataframe\">\n",
       "  <thead>\n",
       "    <tr style=\"text-align: right;\">\n",
       "      <th></th>\n",
       "      <th>longitude</th>\n",
       "      <th>latitude</th>\n",
       "      <th>housing_median_age</th>\n",
       "      <th>total_rooms</th>\n",
       "      <th>total_bedrooms</th>\n",
       "      <th>population</th>\n",
       "      <th>households</th>\n",
       "      <th>median_income</th>\n",
       "      <th>median_house_value</th>\n",
       "      <th>ocean_proximity</th>\n",
       "    </tr>\n",
       "  </thead>\n",
       "  <tbody>\n",
       "    <tr>\n",
       "      <th>5456</th>\n",
       "      <td>-118.47</td>\n",
       "      <td>34.00</td>\n",
       "      <td>38.0</td>\n",
       "      <td>1235.0</td>\n",
       "      <td>390.0</td>\n",
       "      <td>891.0</td>\n",
       "      <td>376.0</td>\n",
       "      <td>2.7143</td>\n",
       "      <td>287500.0</td>\n",
       "      <td>&lt;1H OCEAN</td>\n",
       "    </tr>\n",
       "    <tr>\n",
       "      <th>16336</th>\n",
       "      <td>-121.35</td>\n",
       "      <td>38.04</td>\n",
       "      <td>12.0</td>\n",
       "      <td>6217.0</td>\n",
       "      <td>1019.0</td>\n",
       "      <td>3771.0</td>\n",
       "      <td>961.0</td>\n",
       "      <td>3.7206</td>\n",
       "      <td>146000.0</td>\n",
       "      <td>INLAND</td>\n",
       "    </tr>\n",
       "    <tr>\n",
       "      <th>18843</th>\n",
       "      <td>-122.90</td>\n",
       "      <td>41.46</td>\n",
       "      <td>31.0</td>\n",
       "      <td>1277.0</td>\n",
       "      <td>263.0</td>\n",
       "      <td>600.0</td>\n",
       "      <td>241.0</td>\n",
       "      <td>1.7292</td>\n",
       "      <td>61700.0</td>\n",
       "      <td>INLAND</td>\n",
       "    </tr>\n",
       "    <tr>\n",
       "      <th>18097</th>\n",
       "      <td>-122.05</td>\n",
       "      <td>37.33</td>\n",
       "      <td>17.0</td>\n",
       "      <td>3674.0</td>\n",
       "      <td>824.0</td>\n",
       "      <td>1364.0</td>\n",
       "      <td>694.0</td>\n",
       "      <td>6.3131</td>\n",
       "      <td>436400.0</td>\n",
       "      <td>&lt;1H OCEAN</td>\n",
       "    </tr>\n",
       "    <tr>\n",
       "      <th>5723</th>\n",
       "      <td>-118.23</td>\n",
       "      <td>34.18</td>\n",
       "      <td>45.0</td>\n",
       "      <td>2332.0</td>\n",
       "      <td>NaN</td>\n",
       "      <td>943.0</td>\n",
       "      <td>339.0</td>\n",
       "      <td>8.1132</td>\n",
       "      <td>446600.0</td>\n",
       "      <td>&lt;1H OCEAN</td>\n",
       "    </tr>\n",
       "  </tbody>\n",
       "</table>\n",
       "</div>"
      ],
      "text/plain": [
       "       longitude  latitude  housing_median_age  total_rooms  total_bedrooms  \\\n",
       "5456     -118.47     34.00                38.0       1235.0           390.0   \n",
       "16336    -121.35     38.04                12.0       6217.0          1019.0   \n",
       "18843    -122.90     41.46                31.0       1277.0           263.0   \n",
       "18097    -122.05     37.33                17.0       3674.0           824.0   \n",
       "5723     -118.23     34.18                45.0       2332.0             NaN   \n",
       "\n",
       "       population  households  median_income  median_house_value  \\\n",
       "5456        891.0       376.0         2.7143            287500.0   \n",
       "16336      3771.0       961.0         3.7206            146000.0   \n",
       "18843       600.0       241.0         1.7292             61700.0   \n",
       "18097      1364.0       694.0         6.3131            436400.0   \n",
       "5723        943.0       339.0         8.1132            446600.0   \n",
       "\n",
       "      ocean_proximity  \n",
       "5456        <1H OCEAN  \n",
       "16336          INLAND  \n",
       "18843          INLAND  \n",
       "18097       <1H OCEAN  \n",
       "5723        <1H OCEAN  "
      ]
     },
     "execution_count": 50,
     "metadata": {},
     "output_type": "execute_result"
    }
   ],
   "source": [
    "df = data.iloc[:, 1:]\n",
    "df = df.iloc[:, :-1]\n",
    "#deleted first and last column\n",
    "df.sample(5)"
   ]
  },
  {
   "cell_type": "code",
   "execution_count": 53,
   "metadata": {},
   "outputs": [
    {
     "data": {
      "image/png": "[encoded data removed]",
      "text/plain": [
       "<Figure size 720x720 with 9 Axes>"
      ]
     },
     "metadata": {
      "needs_background": "light"
     },
     "output_type": "display_data"
    }
   ],
   "source": [
    "_hist = df.hist(bins=50, figsize=(10,10))"
   ]
  },
  {
   "cell_type": "code",
   "execution_count": 52,
   "metadata": {},
   "outputs": [
    {
     "data": {
      "text/plain": [
       "0.4999"
      ]
     },
     "execution_count": 52,
     "metadata": {},
     "output_type": "execute_result"
    },
    {
     "data": {
      "text/plain": [
       "15.0001"
      ]
     },
     "execution_count": 52,
     "metadata": {},
     "output_type": "execute_result"
    }
   ],
   "source": [
    "min(df['median_income'])\n",
    "max(df['median_income'])"
   ]
  },
  {
   "cell_type": "markdown",
   "metadata": {},
   "source": [
    "#### Information extracted from these histograms\n",
    "<p> - latitude and longitude are features having real(true) values <br>\n",
    "<p> - median income does not provide real values in $ --> it is normalized with max value of 15.0001 and min value of 0.4999  <br>\n",
    "<p> -  heavy-tailed distributions for households, median income, population total_bedrooms, total_rooms - should be probably scaled to logarithmic dependencies <br>"
   ]
  },
  {
   "cell_type": "code",
   "execution_count": 54,
   "metadata": {},
   "outputs": [],
   "source": [
    "# feats = ['median_income', 'total_rooms', 'housing_median_age', 'ocean_proximity_cat', 'population', 'longitude', 'latitude']"
   ]
  },
  {
   "cell_type": "code",
   "execution_count": null,
   "metadata": {},
   "outputs": [],
   "source": [
    "# df_feats = data[feats]\n",
    "# df_feats.sample(5)"
   ]
  },
  {
   "cell_type": "code",
   "execution_count": 21,
   "metadata": {},
   "outputs": [],
   "source": [
    "#sns.pairplot(df)"
   ]
  }
 ],
 "metadata": {
  "kernelspec": {
   "display_name": "Python 3",
   "language": "python",
   "name": "python3"
  },
  "language_info": {
   "codemirror_mode": {
    "name": "ipython",
    "version": 3
   },
   "file_extension": ".py",
   "mimetype": "text/x-python",
   "name": "python",
   "nbconvert_exporter": "python",
   "pygments_lexer": "ipython3",
   "version": "3.7.1"
  }
 },
 "nbformat": 4,
 "nbformat_minor": 2
}
