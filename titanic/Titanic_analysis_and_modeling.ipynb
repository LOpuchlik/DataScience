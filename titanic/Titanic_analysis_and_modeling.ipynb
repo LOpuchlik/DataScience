{
 "cells": [
  {
   "cell_type": "markdown",
   "metadata": {},
   "source": [
    "# Wstęp\n",
    "\n",
    "\n",
    "* **PassengerId** - id pasażera - losowa liczba (być może w przypadku rodzin, jej członkowie mają kolejne następujące po sobie numery id) - ten parametr raczej nie jest istotny w analizie <br>\n",
    "<br>\n",
    "* **Survived** - to jest tzw. label - wielkość, która będzie przewidywana przez wybrane modele. Przyjmuje dwie wartości 0 - pasażer nie przeżył i 1 - pasażer przeżył <br>\n",
    "<br>\n",
    "* **Pclass** - klasa, którą podróżował pasażer (1 - najwyższa, 3 - najniższa)  <br>\n",
    "* **Name** - imię i nazwisko pasażera (ewentualnie z tytułem używanym przez tą osobę) <br>\n",
    "* **Sex** - płeć pasażera <br>\n",
    "* **Age** - wiek podróżującej osoby <br>\n",
    "* **SibSp** - informacja o tym, czy dany pasażer podróżował z rodzeństwem (Siblings - Sib) lub małżonkiem (Spouse - Sp) <br>\n",
    "* **Parch**  - informacja o tym, czy dany pasażer podróżował z rodzicami (Par) lub dziećmi (ch) <br>\n",
    "* **Ticket**  - numer biletu podróżnego <br>\n",
    "* **Fare**  - cena biletu <br>\n",
    "* **Cabin**  - numer/y kajut/y <br>\n",
    "* **Embarked**  - nazwa portu, w którym pasażer wsiadł na pokład - S - Southmapton, C - Cherbourg, Q - Queenstown <br>"
   ]
  },
  {
   "cell_type": "markdown",
   "metadata": {},
   "source": [
    "### Potrzebne importy i wersje\n",
    "Python: 3.7 <br>"
   ]
  },
  {
   "cell_type": "code",
   "execution_count": 32,
   "metadata": {},
   "outputs": [],
   "source": [
    "import pandas as pd\n",
    "import numpy as np\n",
    "import matplotlib.pyplot as plt\n",
    "%matplotlib inline\n",
    "import seaborn as sns"
   ]
  },
  {
   "cell_type": "markdown",
   "metadata": {},
   "source": [
    "# Data"
   ]
  },
  {
   "cell_type": "code",
   "execution_count": 48,
   "metadata": {},
   "outputs": [],
   "source": [
    "train = pd.read_csv('https://raw.githubusercontent.com/LOpuchlik/DataScience/master/titanic/input/train.csv')\n",
    "test = pd.read_csv('https://raw.githubusercontent.com/LOpuchlik/DataScience/master/titanic/input/test.csv')"
   ]
  },
  {
   "cell_type": "code",
   "execution_count": 39,
   "metadata": {},
   "outputs": [
    {
     "data": {
      "text/html": [
       "<div>\n",
       "<style scoped>\n",
       "    .dataframe tbody tr th:only-of-type {\n",
       "        vertical-align: middle;\n",
       "    }\n",
       "\n",
       "    .dataframe tbody tr th {\n",
       "        vertical-align: top;\n",
       "    }\n",
       "\n",
       "    .dataframe thead th {\n",
       "        text-align: right;\n",
       "    }\n",
       "</style>\n",
       "<table border=\"1\" class=\"dataframe\">\n",
       "  <thead>\n",
       "    <tr style=\"text-align: right;\">\n",
       "      <th></th>\n",
       "      <th>Pclass</th>\n",
       "      <th>Age</th>\n",
       "      <th>Fare</th>\n",
       "      <th>Sex</th>\n",
       "      <th>Parch</th>\n",
       "      <th>SibSp</th>\n",
       "    </tr>\n",
       "  </thead>\n",
       "  <tbody>\n",
       "    <tr>\n",
       "      <th>27</th>\n",
       "      <td>1</td>\n",
       "      <td>19.0</td>\n",
       "      <td>263.0000</td>\n",
       "      <td>0</td>\n",
       "      <td>2</td>\n",
       "      <td>3</td>\n",
       "    </tr>\n",
       "    <tr>\n",
       "      <th>683</th>\n",
       "      <td>3</td>\n",
       "      <td>14.0</td>\n",
       "      <td>46.9000</td>\n",
       "      <td>0</td>\n",
       "      <td>2</td>\n",
       "      <td>5</td>\n",
       "    </tr>\n",
       "    <tr>\n",
       "      <th>281</th>\n",
       "      <td>3</td>\n",
       "      <td>28.0</td>\n",
       "      <td>7.8542</td>\n",
       "      <td>0</td>\n",
       "      <td>0</td>\n",
       "      <td>0</td>\n",
       "    </tr>\n",
       "    <tr>\n",
       "      <th>617</th>\n",
       "      <td>3</td>\n",
       "      <td>26.0</td>\n",
       "      <td>16.1000</td>\n",
       "      <td>1</td>\n",
       "      <td>0</td>\n",
       "      <td>1</td>\n",
       "    </tr>\n",
       "    <tr>\n",
       "      <th>472</th>\n",
       "      <td>2</td>\n",
       "      <td>33.0</td>\n",
       "      <td>27.7500</td>\n",
       "      <td>1</td>\n",
       "      <td>2</td>\n",
       "      <td>1</td>\n",
       "    </tr>\n",
       "  </tbody>\n",
       "</table>\n",
       "</div>"
      ],
      "text/plain": [
       "     Pclass   Age      Fare  Sex  Parch  SibSp\n",
       "27        1  19.0  263.0000    0      2      3\n",
       "683       3  14.0   46.9000    0      2      5\n",
       "281       3  28.0    7.8542    0      0      0\n",
       "617       3  26.0   16.1000    1      0      1\n",
       "472       2  33.0   27.7500    1      2      1"
      ]
     },
     "execution_count": 39,
     "metadata": {},
     "output_type": "execute_result"
    }
   ],
   "source": [
    "# showing 5 random entities (rows) from dataset\n",
    "train.sample(5)"
   ]
  },
  {
   "cell_type": "code",
   "execution_count": 49,
   "metadata": {},
   "outputs": [],
   "source": [
    "# zamiana cech kategorycznych na numeryczne - w przypadku płci są tylko 2 możliwości, więc output 0 i 1 jest ok\n",
    "train['Sex'] = pd.factorize(train['Sex'])[0]\n",
    "test['Sex'] = pd.factorize(test['Sex'])[0]\n",
    "# zamiana cech kategorycznych na numeryczne - w przypadku portu wejścia na pokład są tylko 3 możliwości\n",
    "# więc output 0 i 1 i 2 nie jest dobry (gdyż porty te nie są ustawione w jakiejś hierarchii)\n",
    "# trzeba będzie jeszcze zrobić dummy variables <-- to później\n",
    "train['Embarked'] = pd.factorize(train['Embarked'])[0]\n",
    "test['Embarked'] = pd.factorize(test['Embarked'])[0]"
   ]
  },
  {
   "cell_type": "code",
   "execution_count": 50,
   "metadata": {},
   "outputs": [],
   "source": [
    "# wybieram cechy na podstawie, których początkowo będę chciała trenować model, a później go testować\n",
    "features = ['Pclass', 'Age', 'Fare', 'Sex', 'Parch', 'SibSp', 'Survived']\n",
    "test_features = ['Pclass', 'Age', 'Fare', 'Sex', 'Parch', 'SibSp']\n",
    "train = train[features]\n",
    "test = test[test_features]"
   ]
  },
  {
   "cell_type": "code",
   "execution_count": 51,
   "metadata": {},
   "outputs": [
    {
     "data": {
      "text/plain": [
       "((891, 7), (418, 6))"
      ]
     },
     "execution_count": 51,
     "metadata": {},
     "output_type": "execute_result"
    }
   ],
   "source": [
    "train.shape, test.shape"
   ]
  },
  {
   "cell_type": "raw",
   "metadata": {},
   "source": []
  },
  {
   "cell_type": "markdown",
   "metadata": {},
   "source": [
    "# Analysis\n",
    "Do work here"
   ]
  },
  {
   "cell_type": "markdown",
   "metadata": {},
   "source": [
    "# Results\n",
    "Show graphs and stats here"
   ]
  },
  {
   "cell_type": "markdown",
   "metadata": {},
   "source": [
    "# Conclusions and Next Steps\n",
    "Summarize findings here"
   ]
  },
  {
   "cell_type": "code",
   "execution_count": null,
   "metadata": {},
   "outputs": [],
   "source": []
  }
 ],
 "metadata": {
  "kernelspec": {
   "display_name": "Python 3",
   "language": "python",
   "name": "python3"
  },
  "language_info": {
   "codemirror_mode": {
    "name": "ipython",
    "version": 3
   },
   "file_extension": ".py",
   "mimetype": "text/x-python",
   "name": "python",
   "nbconvert_exporter": "python",
   "pygments_lexer": "ipython3",
   "version": "3.7.1"
  }
 },
 "nbformat": 4,
 "nbformat_minor": 2
}
